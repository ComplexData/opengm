{
 "metadata": {
  "name": "Hard and Soft Constraints"
 },
 "nbformat": 3,
 "nbformat_minor": 0,
 "worksheets": [
  {
   "cells": [
    {
     "cell_type": "heading",
     "level": 1,
     "metadata": {},
     "source": [
      "Hungarian Algorithm"
     ]
    },
    {
     "cell_type": "code",
     "collapsed": false,
     "input": [
      "import opengm\n",
      "import numpy\n",
      "\n",
      "\n",
      "numObjects = 5\n",
      "costs = numpy.random.rand(numObjects,numObjects)\n",
      "print costs"
     ],
     "language": "python",
     "metadata": {},
     "outputs": [
      {
       "output_type": "stream",
       "stream": "stdout",
       "text": [
        "[[ 0.18340654  0.24071403  0.00442085  0.79561346  0.75664649]\n",
        " [ 0.58974133  0.75212175  0.0971882   0.42675694  0.61345297]\n",
        " [ 0.31925786  0.35986949  0.74594331  0.70677343  0.53408796]\n",
        " [ 0.7840645   0.92108669  0.08370163  0.82221166  0.44633535]\n",
        " [ 0.70184349  0.67087664  0.30573287  0.72169153  0.43491736]]\n"
       ]
      }
     ],
     "prompt_number": 28
    },
    {
     "cell_type": "heading",
     "level": 2,
     "metadata": {},
     "source": [
      "Soft Constraint GM"
     ]
    },
    {
     "cell_type": "code",
     "collapsed": false,
     "input": [
      "gm = opengm.gm([numObjects]*numObjects)\n",
      "\n",
      "unaryIds = gm.addFunctions(costs)\n",
      "gm.addFactors(unaryIds,numpy.arange(numObjects))\n",
      "\n",
      "f1To1=opengm.pottsFunction([numObjects,numObjects],10000.0, 0.0)\n",
      "f1To1Id=gm.addFunction(f1To1)\n",
      "\n",
      "for x0 in range(numObjects):\n",
      "    for x1 in range(x0+1,numObjects):\n",
      "        gm.addFactor(f1To1Id,[x0,x1])"
     ],
     "language": "python",
     "metadata": {},
     "outputs": [],
     "prompt_number": 29
    },
    {
     "cell_type": "heading",
     "level": 3,
     "metadata": {},
     "source": [
      "Inference with Lazy Flipper"
     ]
    },
    {
     "cell_type": "code",
     "collapsed": false,
     "input": [
      "Inf = opengm.inference.LazyFlipper\n",
      "param = opengm.InfParam(maxSubgraphSize=1)\n",
      "inf = Inf(gm=gm,parameter=param)\n",
      "inf.infer()\n",
      "arg = inf.arg()\n",
      "print arg, gm.evaluate(arg)\n",
      "print len(numpy.unique(arg))"
     ],
     "language": "python",
     "metadata": {},
     "outputs": [
      {
       "output_type": "stream",
       "stream": "stdout",
       "text": [
        "[2 3 1 4 0] 1.93922611587\n",
        "5\n"
       ]
      }
     ],
     "prompt_number": 30
    },
    {
     "cell_type": "code",
     "collapsed": false,
     "input": [
      "Inf = opengm.inference.LazyFlipper\n",
      "param = opengm.InfParam(maxSubgraphSize=2)\n",
      "inf = Inf(gm=gm,parameter=param)\n",
      "# use warm start\n",
      "inf.setStartingPoint(arg)\n",
      "inf.infer()\n",
      "arg = inf.arg()\n",
      "print arg, gm.evaluate(arg)\n",
      "print len(numpy.unique(arg))"
     ],
     "language": "python",
     "metadata": {},
     "outputs": [
      {
       "output_type": "stream",
       "stream": "stdout",
       "text": [
        "[0 3 1 2 4] 1.48865195347\n",
        "5\n"
       ]
      }
     ],
     "prompt_number": 32
    },
    {
     "cell_type": "code",
     "collapsed": false,
     "input": [
      "Inf = opengm.inference.LazyFlipper\n",
      "param = opengm.InfParam(maxSubgraphSize=3)\n",
      "inf = Inf(gm=gm,parameter=param)\n",
      "inf.infer()\n",
      "# use warm start\n",
      "inf.setStartingPoint(arg)\n",
      "arg = inf.arg()\n",
      "print arg, gm.evaluate(arg)\n",
      "print len(numpy.unique(arg))"
     ],
     "language": "python",
     "metadata": {},
     "outputs": []
    },
    {
     "cell_type": "heading",
     "level": 2,
     "metadata": {},
     "source": [
      "Hard Constraint GM"
     ]
    },
    {
     "cell_type": "code",
     "collapsed": false,
     "input": [
      "gmB = opengm.gm([numObjects]*numObjects)\n",
      "\n",
      "unaryIds = gmB.addFunctions(costs)\n",
      "gmB.addFactors(unaryIds,numpy.arange(numObjects))"
     ],
     "language": "python",
     "metadata": {},
     "outputs": []
    },
    {
     "cell_type": "heading",
     "level": 3,
     "metadata": {},
     "source": [
      "Inference with LpCplex"
     ]
    },
    {
     "cell_type": "code",
     "collapsed": false,
     "input": [
      "cplexParam = opengm.InfParam(integerConstraint=True)\n",
      "lpCplex = opengm.inference.LpCplex(gm=gm,parameter=cplexParam)\n",
      "\n",
      "\n",
      "for x0 in range(numObjects):\n",
      "    for x1 in range(x0+1,numObjects):\n",
      "        \n",
      "        for label in range(numObjects):\n",
      "            #lpVarx0  = inf.lpNodeVariableIndex(x0,label)\n",
      "            #lpVarx1  = inf.lpNodeVariableIndex(x1,label)\n",
      "            constraintVars  = [1,2]\n",
      "            constraintCoeff = [1.0,1.0]\n",
      "            lowerBound = 0.0\n",
      "            upperBound = 1.0\n",
      "            lpCplex.addConstraint(constraintVars,constraintCoeff,lowerBound,upperBound)\n",
      "            \n",
      "            \n",
      "lpCplex.infer()\n",
      "arg = lpCplex.arg()\n",
      "print arg, gm.evaluate(arg)\n",
      "print len(numpy.unique(arg))"
     ],
     "language": "python",
     "metadata": {},
     "outputs": []
    }
   ],
   "metadata": {}
  }
 ]
}