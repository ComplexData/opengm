{
 "metadata": {
  "name": "Hard and Soft Constraints"
 },
 "nbformat": 3,
 "nbformat_minor": 0,
 "worksheets": [
  {
   "cells": [
    {
     "cell_type": "heading",
     "level": 1,
     "metadata": {},
     "source": [
      "Hungarian Algorithm"
     ]
    },
    {
     "cell_type": "code",
     "collapsed": false,
     "input": [
      "import opengm\n",
      "import numpy\n",
      "\n",
      "\n",
      "numObjects = 7\n",
      "costs = numpy.random.rand(numObjects,numObjects)\n",
      "print costs"
     ],
     "language": "python",
     "metadata": {},
     "outputs": [
      {
       "output_type": "stream",
       "stream": "stdout",
       "text": [
        "[[ 0.22291014  0.86036321  0.30364001  0.62406093  0.27928   ]\n",
        " [ 0.27143579  0.66073554  0.74667637  0.07450558  0.48839155]\n",
        " [ 0.03011927  0.46634539  0.90776343  0.41867748  0.68479904]\n",
        " [ 0.12136733  0.95628486  0.15304729  0.4061785   0.75170059]\n",
        " [ 0.26976022  0.86853386  0.81226495  0.28000263  0.56060886]]\n"
       ]
      }
     ],
     "prompt_number": 1
    },
    {
     "cell_type": "heading",
     "level": 2,
     "metadata": {},
     "source": [
      "Soft Constraint GM"
     ]
    },
    {
     "cell_type": "code",
     "collapsed": false,
     "input": [
      "gm = opengm.gm([numObjects]*numObjects)\n",
      "\n",
      "unaryIds = gm.addFunctions(costs)\n",
      "gm.addFactors(unaryIds,numpy.arange(numObjects))\n",
      "\n",
      "f1To1=opengm.pottsFunction([numObjects,numObjects],10000.0, 0.0)\n",
      "f1To1Id=gm.addFunction(f1To1)\n",
      "\n",
      "for x0 in range(numObjects):\n",
      "    for x1 in range(x0+1,numObjects):\n",
      "        gm.addFactor(f1To1Id,[x0,x1])"
     ],
     "language": "python",
     "metadata": {},
     "outputs": [],
     "prompt_number": 2
    },
    {
     "cell_type": "heading",
     "level": 3,
     "metadata": {},
     "source": [
      "Inference with Lazy Flipper"
     ]
    },
    {
     "cell_type": "code",
     "collapsed": false,
     "input": [
      "Inf = opengm.inference.LazyFlipper\n",
      "param = opengm.InfParam(maxSubgraphSize=1)\n",
      "inf = Inf(gm=gm,parameter=param)\n",
      "inf.infer()\n",
      "arg = inf.arg()\n",
      "print arg, gm.evaluate(arg)\n",
      "print len(numpy.unique(arg))"
     ],
     "language": "python",
     "metadata": {},
     "outputs": [
      {
       "output_type": "stream",
       "stream": "stdout",
       "text": [
        "[4 3 1 2 0] 1.2429384696\n",
        "5\n"
       ]
      }
     ],
     "prompt_number": 3
    },
    {
     "cell_type": "code",
     "collapsed": false,
     "input": [
      "Inf = opengm.inference.LazyFlipper\n",
      "param = opengm.InfParam(maxSubgraphSize=2)\n",
      "inf = Inf(gm=gm,parameter=param)\n",
      "# use warm start\n",
      "inf.setStartingPoint(arg)\n",
      "inf.infer()\n",
      "arg = inf.arg()\n",
      "print arg, gm.evaluate(arg)\n",
      "print len(numpy.unique(arg))"
     ],
     "language": "python",
     "metadata": {},
     "outputs": [
      {
       "output_type": "stream",
       "stream": "stdout",
       "text": [
        "[4 3 1 2 0] 1.2429384696\n",
        "5\n"
       ]
      }
     ],
     "prompt_number": 4
    },
    {
     "cell_type": "code",
     "collapsed": false,
     "input": [
      "Inf = opengm.inference.LazyFlipper\n",
      "param = opengm.InfParam(maxSubgraphSize=3)\n",
      "inf = Inf(gm=gm,parameter=param)\n",
      "inf.infer()\n",
      "# use warm start\n",
      "inf.setStartingPoint(arg)\n",
      "arg = inf.arg()\n",
      "print arg, gm.evaluate(arg)\n",
      "print len(numpy.unique(arg))"
     ],
     "language": "python",
     "metadata": {},
     "outputs": [
      {
       "output_type": "stream",
       "stream": "stdout",
       "text": [
        "[4 3 1 2 0] 1.2429384696\n",
        "5\n"
       ]
      }
     ],
     "prompt_number": 5
    },
    {
     "cell_type": "heading",
     "level": 2,
     "metadata": {},
     "source": [
      "Hard Constraint GM"
     ]
    },
    {
     "cell_type": "code",
     "collapsed": false,
     "input": [
      "gmB = opengm.gm([numObjects]*numObjects)\n",
      "\n",
      "unaryIds = gmB.addFunctions(costs)\n",
      "gmB.addFactors(unaryIds,numpy.arange(numObjects))"
     ],
     "language": "python",
     "metadata": {},
     "outputs": [
      {
       "output_type": "pyout",
       "prompt_number": 6,
       "text": [
        "4L"
       ]
      }
     ],
     "prompt_number": 6
    },
    {
     "cell_type": "heading",
     "level": 3,
     "metadata": {},
     "source": [
      "Inference with LpCplex"
     ]
    },
    {
     "cell_type": "code",
     "collapsed": false,
     "input": [
      "cplexParam = opengm.InfParam(integerConstraint=True)\n",
      "lpCplex = opengm.inference.LpCplex(gm=gm,parameter=cplexParam)\n",
      "\n",
      "\n",
      "for x0 in range(numObjects):\n",
      "    for x1 in range(x0+1,numObjects):\n",
      "        \n",
      "        for label in range(numObjects):\n",
      "            #lpVarx0  = inf.lpNodeVariableIndex(x0,label)\n",
      "            #lpVarx1  = inf.lpNodeVariableIndex(x1,label)\n",
      "            constraintVars  = [1,2]\n",
      "            constraintCoeff = [1.0,1.0]\n",
      "            lowerBound = 0.0\n",
      "            upperBound = 1.0\n",
      "            lpCplex.addConstraint(constraintVars,constraintCoeff,lowerBound,upperBound)\n",
      "            \n",
      "            \n",
      "lpCplex.infer()\n",
      "arg = lpCplex.arg()\n",
      "print arg, gm.evaluate(arg)\n",
      "print len(numpy.unique(arg))"
     ],
     "language": "python",
     "metadata": {},
     "outputs": [
      {
       "output_type": "stream",
       "stream": "stdout",
       "text": [
        "[4 3 1 2 0] 1.2429384696\n",
        "5\n"
       ]
      }
     ],
     "prompt_number": 7
    }
   ],
   "metadata": {}
  }
 ]
}